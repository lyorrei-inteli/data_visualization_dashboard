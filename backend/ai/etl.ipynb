{
  "cells": [
    {
      "cell_type": "markdown",
      "metadata": {
        "id": "7ybvN3ykC8Zy"
      },
      "source": [
        "# Load do dataframe"
      ]
    },
    {
      "cell_type": "code",
      "execution_count": 2,
      "metadata": {
        "id": "V5RK0Yoe0RUx"
      },
      "outputs": [],
      "source": [
        "import pandas as pd\n",
        "import numpy as np\n",
        "import seaborn as sns\n",
        "import matplotlib.pyplot as plt\n",
        "import warnings\n",
        "warnings.filterwarnings(\"ignore\")"
      ]
    },
    {
      "cell_type": "code",
      "execution_count": 4,
      "metadata": {
        "id": "NLnXvLg8mrKQ"
      },
      "outputs": [],
      "source": [
        "# Dados lidos do arquivo csv\n",
        "df = pd.read_csv('../data/highway_crashes_processed.csv')"
      ]
    },
    {
      "cell_type": "code",
      "execution_count": 6,
      "metadata": {},
      "outputs": [
        {
          "data": {
            "text/plain": [
              "car                                           float64\n",
              "bicycle                                       float64\n",
              "trucks                                        float64\n",
              "motorbike                                     float64\n",
              "bus                                           float64\n",
              "others                                        float64\n",
              "animals                                       float64\n",
              "special_cargos                                float64\n",
              "tractors                                      float64\n",
              "utilities                                     float64\n",
              "unharmed                                      float64\n",
              "slight_injury                                 float64\n",
              "moderate_injury                               float64\n",
              "serious_injury                                float64\n",
              "month                                           int64\n",
              "year                                            int64\n",
              "dayofweek                                       int64\n",
              "severity                                        int64\n",
              "road_info_Descending Curve                      int64\n",
              "road_info_East Going                            int64\n",
              "road_info_North Going                           int64\n",
              "road_info_Other                                 int64\n",
              "road_info_South Going                           int64\n",
              "road_info_Top Curve                             int64\n",
              "road_info_West Going                            int64\n",
              "accident_place_Autopista Fernão Dias            int64\n",
              "accident_place_Autopista Fluminense             int64\n",
              "accident_place_Autopista Litoral Sul            int64\n",
              "accident_place_Autopista Planalto Sul           int64\n",
              "accident_place_Autopista Regis Bittencourt      int64\n",
              "accident_place_Concebra                         int64\n",
              "accident_place_Concepa                          int64\n",
              "accident_place_Concer                           int64\n",
              "accident_place_Cro                              int64\n",
              "accident_place_Crt                              int64\n",
              "accident_place_ECO050                           int64\n",
              "accident_place_ECO101                           int64\n",
              "accident_place_Ecoponte                         int64\n",
              "accident_place_Ecoriominas                      int64\n",
              "accident_place_Ecosul                           int64\n",
              "accident_place_Ecovias do Araguaia              int64\n",
              "accident_place_Ecovias do Cerrado               int64\n",
              "accident_place_MSVIA                            int64\n",
              "accident_place_Novadutra                        int64\n",
              "accident_place_RIOSP                            int64\n",
              "accident_place_Rodovia do Aço                   int64\n",
              "accident_place_Transbrasiliana                  int64\n",
              "accident_place_VIA040                           int64\n",
              "accident_place_Via Bahia                        int64\n",
              "accident_place_Via Brasil                       int64\n",
              "accident_place_Via Costeira                     int64\n",
              "accident_place_Via Sul                          int64\n",
              "dtype: object"
            ]
          },
          "execution_count": 6,
          "metadata": {},
          "output_type": "execute_result"
        }
      ],
      "source": [
        "df.dtypes"
      ]
    },
    {
      "cell_type": "markdown",
      "metadata": {
        "id": "MOGHcH2yDBJ9"
      },
      "source": [
        "# Exploração dos dados"
      ]
    },
    {
      "cell_type": "markdown",
      "metadata": {
        "id": "ybnyhG24nB0c"
      },
      "source": [
        "## Ver dados da tabela"
      ]
    },
    {
      "cell_type": "code",
      "execution_count": null,
      "metadata": {
        "colab": {
          "base_uri": "https://localhost:8080/",
          "height": 206
        },
        "id": "A02MsTcdDBJ-",
        "outputId": "bff2787b-5e05-4a44-e2db-6ca0f30121af"
      },
      "outputs": [],
      "source": [
        "pd.set_option(\"display.max_columns\", None)\n",
        "pd.set_option(\"display.max_rows\",None)\n",
        "df.head()"
      ]
    },
    {
      "cell_type": "markdown",
      "metadata": {},
      "source": [
        "## Mudança do nome das colunas para nomes mais intuitivos"
      ]
    },
    {
      "cell_type": "code",
      "execution_count": null,
      "metadata": {},
      "outputs": [],
      "source": [
        "\n",
        "map_values = {\n",
        "    \"concessionaria\": \"info_provider\",\n",
        "    \"data\": \"date\",\n",
        "    \"horario\": \"reg_time\",\n",
        "    \"n_da_ocorrencia\": \"times_info_provided\",\n",
        "    \"tipo_de_ocorrencia\": \"victim_info\",\n",
        "    \"km\": \"km_mark_of_location\",\n",
        "    \"trecho\": \"road_no\",\n",
        "    \"sentido\": \"road_info\",\n",
        "    \"tipo_de_acidente\": \"type_of_accident\",\n",
        "    \"automovel\": \"car\",\n",
        "    \"bicicleta\": \"bicycle\",\n",
        "    \"caminhao\": \"trucks\",\n",
        "    \"moto\": \"motorbike\",\n",
        "    \"onibus\": \"bus\",\n",
        "    \"outros\": \"others\",\n",
        "    \"tracao_animal\": \"animals\",\n",
        "    \"transporte_de_cargas_especiais\": \"special_cargos\",\n",
        "    \"trator_maquinas\": \"tractors\",\n",
        "    \"utilitarios\": \"utilities\",\n",
        "    \"ilesos\": \"unharmed\",\n",
        "    \"levemente_feridos\": \"slight_injury\",\n",
        "    \"moderadamente_feridos\": \"moderate_injury\",\n",
        "    \"gravemente_feridos\": \"serious_injury\",\n",
        "    \"mortos\": \"fatalities\",\n",
        "    \"lugar_acidente\":\"accident_place\"\n",
        "}\n",
        "\n",
        "for column in df.columns:\n",
        "    df.rename(columns=map_values, inplace=True)\n",
        "    \n",
        "df.head()"
      ]
    },
    {
      "cell_type": "markdown",
      "metadata": {
        "id": "C8Je8eU4nFTn"
      },
      "source": [
        "## Ver estatísticas das colunas da tabela"
      ]
    },
    {
      "cell_type": "code",
      "execution_count": null,
      "metadata": {
        "colab": {
          "base_uri": "https://localhost:8080/"
        },
        "id": "6Jt18hUmDBJ-",
        "outputId": "5b24639a-4ef7-4625-e135-c2180ceb1764"
      },
      "outputs": [],
      "source": [
        "df.describe()"
      ]
    },
    {
      "cell_type": "code",
      "execution_count": null,
      "metadata": {
        "colab": {
          "base_uri": "https://localhost:8080/"
        },
        "id": "qRhN2SzSneu3",
        "outputId": "601fa726-ad6e-4193-eca3-3f1cfb163b31"
      },
      "outputs": [],
      "source": [
        "df.describe(include=\"object\")"
      ]
    },
    {
      "cell_type": "markdown",
      "metadata": {
        "id": "xbqieNNSnMrI"
      },
      "source": [
        "## Ver informações de cada coluna da tabela"
      ]
    },
    {
      "cell_type": "code",
      "execution_count": null,
      "metadata": {},
      "outputs": [],
      "source": [
        "df.shape"
      ]
    },
    {
      "cell_type": "code",
      "execution_count": null,
      "metadata": {},
      "outputs": [],
      "source": [
        "df.dtypes"
      ]
    },
    {
      "cell_type": "code",
      "execution_count": null,
      "metadata": {
        "colab": {
          "base_uri": "https://localhost:8080/"
        },
        "id": "0Ae0BpHVnR6q",
        "outputId": "159a2b62-8470-43c4-98de-7236fca4659d"
      },
      "outputs": [],
      "source": [
        "df.info()"
      ]
    },
    {
      "cell_type": "code",
      "execution_count": null,
      "metadata": {},
      "outputs": [],
      "source": [
        "df.columns"
      ]
    },
    {
      "cell_type": "markdown",
      "metadata": {},
      "source": [
        "## Ver valores únicos de cada coluna da tabela"
      ]
    },
    {
      "cell_type": "code",
      "execution_count": null,
      "metadata": {},
      "outputs": [],
      "source": [
        "for column in df.columns:\n",
        "    if column not in [\"date\", \"reg_time\", \"times_info_provided\", \"km_mark_of_location\", \"road_no\",\n",
        "                     \"car\", \"bicycle\", \"trucks\", \"motorbike\", \"bus\", \"others\",\n",
        "                      \"animals\", \"special_cargos\", \"tractors\", \"utilities\",\n",
        "                      \"unharmed\", \"slight_injury\", \"moderate_injury\", \"serious_injury\", \"fatalities\"]:\n",
        "        vl = df[column].value_counts()\n",
        "        print(f\" \\n\\nColumn Name: {column} \\n\\n\\n\", vl)"
      ]
    },
    {
      "cell_type": "markdown",
      "metadata": {},
      "source": [
        "Ao visualizar o output acima, identificamos que muitas das colunas possuem valores que devem ser tratados, como por exemplo, a coluna 'victim_info'."
      ]
    },
    {
      "cell_type": "markdown",
      "metadata": {},
      "source": [
        "## Tratamento dos dados"
      ]
    },
    {
      "cell_type": "markdown",
      "metadata": {},
      "source": [
        "### Coluna 'victim_info':"
      ]
    },
    {
      "cell_type": "code",
      "execution_count": null,
      "metadata": {},
      "outputs": [],
      "source": [
        "df['victim_info'].value_counts()"
      ]
    },
    {
      "cell_type": "code",
      "execution_count": null,
      "metadata": {},
      "outputs": [],
      "source": [
        "map_victims = {\n",
        "  \"sem vítima\" : \"victimless\",\n",
        "  \"com vítima\" : \"with victims\",\n",
        "  \"Sem vítima\" : \"victimless\",\n",
        "  \"Acidente sem Vítima\" : \"victimless\",\n",
        "  \"3 - Acidente com Danos Materiais \": \"Accident with Property Damage\",\n",
        "  \"Acidente sem vítima\" : \"victimless\",\n",
        "  \"Acidente com vítima\" : \"with victims\",\n",
        "  \"Com vítima\": \"with victims\",\n",
        "  \"ac02 - Acidente com Vítima\": \"with victims\",\n",
        "  \"2 - Acidente com VITIMA\":\"with victims\",\n",
        "  \"Acidente com Vítima\":\"with victims\",\n",
        "  \"AC03 - Acidente sem VITIMA\":\"victimless\",\n",
        "  \"Acidente sem Vítimas\":\"victimless\",\n",
        "  \"AC02 - Acidente com VITIMA\":\"with victims\",\n",
        "  \"ac03 - Acidente com Danos Materiais\":\"Accident with Property Damage\",\n",
        "  \"AC03 - ACIDENTE SEM VÍTIMA\":\"victimless\",\n",
        "  \"Acidente sem VITIMA\":\"victimless\",\n",
        "  \"Acidente com Vítimas\":\"with victims\",\n",
        "  \"Acidente com Danos Materiais\":\"Accident with Property Damage\",\n",
        "  \"ASV - Acidente SEM Vítima\":\"victimless\",\n",
        "  \"AC02 - ACIDENTE COM VÍTIMA\":\"with victims\",\n",
        "  \"ac03 - Acidente com vítima ilesa\": \"accident with uninjured victim\",\n",
        "  \"Acidente com VITIMA\":\"victimless\",\n",
        "  \"ac02 - Acidente com vítima\":\"with victims\",\n",
        "  \"Atropelamento sem Morte\":\"run over without death\",\n",
        "  \"ac01 - Acidente com Vítima Fatal\": \"fatal victims\",\n",
        "  \"AV - Acidente com VITIMA\":\"with victims\",\n",
        "  \"3 - Acidente com Vitima Sem Lesão\":\"accident with uninjured victim\",\n",
        "  \"Atropelamento sem morte\":\"run over without death\",\n",
        "  \"Acidente com Morte\":\"fatal victims\",\n",
        "  \"Acidente com morte\":\"fatal victims\",\n",
        "  \"1 - Acidente com Vitima Fatal\":\"fatal victims\",\n",
        "  \"2 - Acidente com Vitima\":\"with victims\",\n",
        "  \"Atropelamento com morte\":\"fatal victims\",\n",
        "  \"AC02-ACIDENTE COM VÍTIMA\":\"with victims\",\n",
        "  \"Acidente Fatal\":\"fatal victims\",\n",
        "  \"Atropelamento com Morte\":\"fatal victims\",\n",
        "  \"AC03-ACIDENTE SEM VÍTIMA\":\"victimless\",\n",
        "  \"AC04 - Atropelamento\":\"run over without death\",\n",
        "  \"AC01 - ACIDENTE COM VÍTIMA FATAL\":\"fatal victims\",\n",
        "  \"AF - Acidente com Vitima Fatal\":\"fatal victims\",\n",
        "  \"AC01 - Acidente com VITIMA FATAL\":\"fatal victims\",\n",
        "  \"ac01 - Acidente com vitima fatal\":\"fatal victims\",\n",
        "  \"Acidente com VITIMA FATAL\":\"fatal victims\",\n",
        "  \"AC05 - Atropelamento Fatal\":\"fatal victims\",\n",
        "  \"Atropelamento\":\"run over without death\",\n",
        "  \"Acidente sem Vítima - TRECHO CONTORNO\":\"victimless\",\n",
        "  \"Acidente COM VITIMA\":\"with victims\",\n",
        "  \"AC3 - Acidente sem VITIMA\":\"victimless\",\n",
        "  \"AC2 - Acidente com VITIMA\":\"with victims\",\n",
        "  \"Atropelamento Fatal\":\"fatal victims\",\n",
        "  \"ac03 - Acidente sem Vitimas\":\"victimless\",\n",
        "  \"Acidente com Vítima - TRECHO CONTORNO\":\"with victims\",\n",
        "  \"Acidente sem vítima - TRECHO CONTORNO\":\"victimless\",\n",
        "  \"AC01-ACIDENTE COM VÍTIMA FATAL\":\"fatal victims\",\n",
        "  \"ac02 - Acidente com VITIMA\":\"with victims\",\n",
        "  \"2- Acidente com VITIMA\":\"with victims\",\n",
        "  \"Acidente com vítima - TRECHO CONTORNO\":\"with victims\",\n",
        "  \"Acidente com Vítima Fatal\":\"fatal victims\",\n",
        "  \"A PP - Acidente envolvendo Produto Perigoso\":\"goods involved without victims\",\n",
        "  \"Acidente fatal\":\"fatal victims\",\n",
        "  \"in21 - Suícidio\":\"Suicide\",\n",
        "  \"AC1 - Acidente com VITIMA FATAL\":\"fatal victims\",\n",
        "  \"A PPV - Acidente envolvendo Produto Perigoso com vitima\":\"goods involved with victims\",\n",
        "  \"A PPF - Acidente envolvendo Produto Perigoso vitima fatal\":\"fatal victims\",\n",
        "  \"Acidente com Morte - TRECHO CONTORNO\":\"fatal victims\",\n",
        "  \"Acidente com morte - TRECHO CONTORNO\":\"fatal victims\",\n",
        "  \"Atropelamento sem morte - TRECHO CONTORNO\":\"run over without death\",\n",
        "  \"Atropelamento sem Morte - TRECHO CONTORNO\":\"run over without death\",\n",
        "  \"ac01 - Acidente com Vitima Fatal\": \"fatal victims\",\n",
        "  \"3 - Acidente com Danos Materiais\":\"Accident with Property Damage\",\n",
        "  \" 2- Acidente com VITIMA\":\"with victims\",\n",
        "  \"Accident without Victims\":\"victimless\",\n",
        "  \"accident with victims\":\"with victims\",\n",
        "  \"accident with uninjured victim\":\"victimless\",\n",
        "  \"Accident with Property Damage\": \"property damage\",\n",
        "  \"victimless\":\"no injury\",\n",
        "  \"with victims\":\"minor injury\",\n",
        "  \"fatal victims\":\"fatal injury\"\n",
        "}"
      ]
    },
    {
      "cell_type": "code",
      "execution_count": null,
      "metadata": {},
      "outputs": [],
      "source": [
        "df[\"victim_info\"] = df[\"victim_info\"].replace(map_victims)"
      ]
    },
    {
      "cell_type": "code",
      "execution_count": null,
      "metadata": {},
      "outputs": [],
      "source": [
        "sns.countplot(data=df, x=df[\"victim_info\"])\n",
        "plt.xticks(rotation=90)\n",
        "plt.show()"
      ]
    },
    {
      "cell_type": "markdown",
      "metadata": {},
      "source": [
        "### Coluna 'road_info':"
      ]
    },
    {
      "cell_type": "code",
      "execution_count": null,
      "metadata": {},
      "outputs": [],
      "source": [
        "df['road_info'].value_counts()"
      ]
    },
    {
      "cell_type": "code",
      "execution_count": null,
      "metadata": {},
      "outputs": [],
      "source": [
        "map_roads = {\n",
        "    \"Norte\":\"North Going\",\n",
        "    \"Sul\":\"South Going\",\n",
        "    \"Pista Norte\":\"North Going\",\n",
        "    \"Pista Sul\":\"South Going\",\n",
        "    \"Decrescente\":\"Descending Curve\",\n",
        "    \"Crescente\":\"Top Curve\",\n",
        "    \"Leste\":\"East Going\",\n",
        "    \"Oeste\":\"West Going\",\n",
        "    \"RJ\":\"Other\",\n",
        "    \"JF\":\"Other\",\n",
        "    \"NORTE\":\"North Going\",\n",
        "    \"SUL\":\"South Going\",\n",
        "    \"N\":\"North Going\",\n",
        "    \"S\":\"South Going\",\n",
        "    \"Ambos\":\"Other\",\n",
        "    \"Norte\":\"North Going\",\n",
        "    \"Sul - TRECHO CONTORNO\":\"South Going\",\n",
        "    \"Sul\":\"South Going\",\n",
        "    \"Norte - TRECHO CONTORNO\":\"North Going\",\n",
        "    \" Norte\":\"North Going\",\n",
        "    \" Sul\":\"South Going\"\n",
        "}"
      ]
    },
    {
      "cell_type": "code",
      "execution_count": null,
      "metadata": {},
      "outputs": [],
      "source": [
        "df[\"road_info\"] = df[\"road_info\"].replace(map_roads)"
      ]
    },
    {
      "cell_type": "code",
      "execution_count": null,
      "metadata": {},
      "outputs": [],
      "source": [
        "df[\"road_info\"].value_counts()"
      ]
    },
    {
      "cell_type": "code",
      "execution_count": null,
      "metadata": {},
      "outputs": [],
      "source": [
        "sns.countplot(data=df, x=df[\"road_info\"])\n",
        "plt.xticks(rotation=90)\n",
        "plt.show()"
      ]
    },
    {
      "cell_type": "markdown",
      "metadata": {},
      "source": [
        "## Visualização dos dados Nulos"
      ]
    },
    {
      "cell_type": "code",
      "execution_count": null,
      "metadata": {},
      "outputs": [],
      "source": [
        "import missingno as msno\n",
        "\n",
        "msno.matrix(df)\n",
        "plt.figure(figsize=(25,25))\n",
        "plt.show()"
      ]
    },
    {
      "cell_type": "code",
      "execution_count": null,
      "metadata": {},
      "outputs": [],
      "source": [
        "df.isna().sum()"
      ]
    },
    {
      "cell_type": "markdown",
      "metadata": {
        "id": "ahEVmsj_nuWF"
      },
      "source": [
        "## Plot de gráficos"
      ]
    },
    {
      "cell_type": "code",
      "execution_count": null,
      "metadata": {
        "id": "jVdnYw8BnyIm"
      },
      "outputs": [],
      "source": [
        "num_cols = [\n",
        "    \"car\",\n",
        "    \"bicycle\",\n",
        "    \"trucks\",\n",
        "    \"motorbike\",\n",
        "    \"bus\",\n",
        "    \"others\",\n",
        "    \"animals\",\n",
        "    \"special_cargos\",\n",
        "    \"tractors\",\n",
        "    \"utilities\",\n",
        "    \"unharmed\",\n",
        "    \"slight_injury\",\n",
        "    \"moderate_injury\",\n",
        "    \"serious_injury\",\n",
        "    \"fatalities\"\n",
        "]\n",
        "\n",
        "for column in num_cols:\n",
        "    df[column] = pd.to_numeric(df[column], errors=\"coerce\")\n",
        "    plt.figure(figsize=(15,12))\n",
        "    sns.countplot(data=df, x= df[column], orient=\"h\")\n",
        "    plt.show()"
      ]
    },
    {
      "cell_type": "markdown",
      "metadata": {
        "id": "eignq_YuDOFd"
      },
      "source": [
        "## Pré-processamento dos dados"
      ]
    },
    {
      "cell_type": "markdown",
      "metadata": {},
      "source": [
        "### Dividindo as colunas em categóricas e numéricas"
      ]
    },
    {
      "cell_type": "code",
      "execution_count": null,
      "metadata": {},
      "outputs": [],
      "source": [
        "def update_cols(df):\n",
        "    cat_cols = []\n",
        "    num_cols = []\n",
        "\n",
        "    for column in df.columns:\n",
        "        if df[column].dtypes == object:\n",
        "            cat_cols.append(column)\n",
        "        else:\n",
        "            num_cols.append(column)\n",
        "    return cat_cols, num_cols\n"
      ]
    },
    {
      "cell_type": "code",
      "execution_count": null,
      "metadata": {},
      "outputs": [],
      "source": [
        "cat_cols, num_cols = update_cols(df)"
      ]
    },
    {
      "cell_type": "markdown",
      "metadata": {},
      "source": [
        "### Preenchimento dos dados Nulos"
      ]
    },
    {
      "cell_type": "code",
      "execution_count": null,
      "metadata": {
        "colab": {
          "base_uri": "https://localhost:8080/",
          "height": 175
        },
        "id": "rufGHSVwDOFd",
        "outputId": "8e31b98a-7eae-49c5-efd0-88726f5ed376"
      },
      "outputs": [],
      "source": [
        "for column in num_cols:\n",
        "    df[column] = df[column].fillna(0)\n",
        "    \n",
        "df.head()"
      ]
    },
    {
      "cell_type": "code",
      "execution_count": null,
      "metadata": {},
      "outputs": [],
      "source": [
        "msno.matrix(df)"
      ]
    },
    {
      "cell_type": "markdown",
      "metadata": {},
      "source": [
        "### Tratamento da coluna 'date':"
      ]
    },
    {
      "cell_type": "code",
      "execution_count": null,
      "metadata": {},
      "outputs": [],
      "source": [
        "df[\"date\"] = pd.to_datetime(df[\"date\"], format=\"%d/%m/%Y\")"
      ]
    },
    {
      "cell_type": "code",
      "execution_count": null,
      "metadata": {},
      "outputs": [],
      "source": [
        "df[\"month\"] = df[\"date\"].dt.month\n",
        "df[\"year\"] = df[\"date\"].dt.year\n",
        "df[\"dayofweek\"] = df[\"date\"].dt.dayofweek"
      ]
    },
    {
      "cell_type": "markdown",
      "metadata": {},
      "source": [
        "### Criando coluna resposta sobre a fatalidade do acidente"
      ]
    },
    {
      "cell_type": "code",
      "execution_count": null,
      "metadata": {},
      "outputs": [],
      "source": [
        "df[\"severity\"] = df[\"fatalities\"].apply(lambda x: \"non_fatal\" if x == 0.0 else \"fatal\")"
      ]
    },
    {
      "cell_type": "code",
      "execution_count": null,
      "metadata": {},
      "outputs": [],
      "source": [
        "sns.countplot(data=df, x=df[\"severity\"])\n",
        "plt.xticks(rotation=90)\n",
        "plt.show()"
      ]
    },
    {
      "cell_type": "markdown",
      "metadata": {},
      "source": [
        "### Preenchendo valores nulos das colunas categoricas"
      ]
    },
    {
      "cell_type": "code",
      "execution_count": null,
      "metadata": {},
      "outputs": [],
      "source": [
        "for column in cat_cols:\n",
        "    df[column] = df[column].fillna(df[column].mode()[0])"
      ]
    },
    {
      "cell_type": "code",
      "execution_count": null,
      "metadata": {},
      "outputs": [],
      "source": [
        "df[\"km_mark_of_location\"] = pd.to_numeric(df[\"km_mark_of_location\"], errors=\"coerce\")"
      ]
    },
    {
      "cell_type": "markdown",
      "metadata": {},
      "source": [
        "### Tratando colunas categóricas"
      ]
    },
    {
      "cell_type": "code",
      "execution_count": null,
      "metadata": {},
      "outputs": [],
      "source": [
        "df = pd.get_dummies(df, columns=['road_info'], prefix=['road_info'])"
      ]
    },
    {
      "cell_type": "code",
      "execution_count": null,
      "metadata": {},
      "outputs": [],
      "source": [
        "df = pd.get_dummies(df, columns=['accident_place'], prefix=['accident_place'])"
      ]
    },
    {
      "cell_type": "code",
      "execution_count": null,
      "metadata": {},
      "outputs": [],
      "source": [
        "for column in df.columns:\n",
        "    if df[column].dtype == bool:\n",
        "        df[column] = df[column].astype(int)"
      ]
    },
    {
      "cell_type": "code",
      "execution_count": null,
      "metadata": {},
      "outputs": [],
      "source": [
        "mapping_severity = {\n",
        "    'non_fatal': 0,\n",
        "    'fatal': 1,\n",
        "}\n",
        "df['severity'] = df['severity'].map(mapping_severity)"
      ]
    },
    {
      "cell_type": "markdown",
      "metadata": {},
      "source": [
        "### Excluindo colunas que não serão utilizadas"
      ]
    },
    {
      "cell_type": "code",
      "execution_count": null,
      "metadata": {},
      "outputs": [],
      "source": [
        "columns_to_drop = [\n",
        "    \"date\",\"reg_time\", \"km_mark_of_location\", \"road_no\", \"times_info_provided\", \"victim_info\", \"type_of_accident\", \"fatalities\"\n",
        "]\n",
        "df = df.drop(columns=columns_to_drop, axis=1)\n"
      ]
    },
    {
      "cell_type": "markdown",
      "metadata": {
        "id": "kUsbyekyDTCk"
      },
      "source": [
        "## Seleção de Atributos: Feature Selection"
      ]
    },
    {
      "cell_type": "markdown",
      "metadata": {
        "id": "zN5AUW0KxJ6s"
      },
      "source": [
        "### Matriz de correlação entre as colunas"
      ]
    },
    {
      "cell_type": "markdown",
      "metadata": {
        "id": "32ntpUTL2Gsx"
      },
      "source": [
        "Correlação de todas as colunas"
      ]
    },
    {
      "cell_type": "code",
      "execution_count": null,
      "metadata": {
        "colab": {
          "base_uri": "https://localhost:8080/",
          "height": 508
        },
        "id": "iv_xelThvQBJ",
        "outputId": "ec64a06a-a343-4d95-be8c-08c7f605db60"
      },
      "outputs": [],
      "source": [
        "# Geração de uma matriz que indica a porcentagem de correlação entre as colunas\n",
        "matriz_corr = df.corr().style.background_gradient(cmap='coolwarm')\n",
        "matriz_corr"
      ]
    },
    {
      "cell_type": "markdown",
      "metadata": {
        "id": "2jZRQi10wgHn"
      },
      "source": [
        "Correlação da coluna que queremos prever com todas as outras"
      ]
    },
    {
      "cell_type": "code",
      "execution_count": null,
      "metadata": {
        "colab": {
          "base_uri": "https://localhost:8080/",
          "height": 488
        },
        "id": "wC_bcQJ7wfGR",
        "outputId": "3ae532dd-f7d0-4e17-c3ec-27470a95d244"
      },
      "outputs": [],
      "source": [
        "target_corr = matriz_corr.data.severity\n",
        "df_corr = target_corr.abs().sort_values(ascending=False).to_frame().style.background_gradient(cmap='coolwarm')\n",
        "df_corr"
      ]
    },
    {
      "cell_type": "markdown",
      "metadata": {},
      "source": [
        "## Salvando os dados processados"
      ]
    },
    {
      "cell_type": "code",
      "execution_count": null,
      "metadata": {},
      "outputs": [],
      "source": [
        "df.to_csv(\"./data/highway_crashes_processed.csv\", index=False)"
      ]
    }
  ],
  "metadata": {
    "colab": {
      "collapsed_sections": [
        "41BOPAWU9yLL",
        "8NZjxTfqwfvX",
        "M7DXGYgP44fF",
        "9FpX4sPe-EHv",
        "cpuz6ZCj2wuo",
        "7ybvN3ykC8Zy",
        "MOGHcH2yDBJ9",
        "ybnyhG24nB0c",
        "C8Je8eU4nFTn",
        "xbqieNNSnMrI",
        "ahEVmsj_nuWF",
        "eignq_YuDOFd",
        "qAJ_DW4RpMta",
        "ZfATeFGvrib8",
        "esninlU0tYj3",
        "3aH2CnsKsH2_",
        "kUsbyekyDTCk",
        "zN5AUW0KxJ6s",
        "j958_XBtDayN",
        "dWXEDpF3wzBT",
        "SZfDr3kgxS-d",
        "zq7ZFBU2zSsJ",
        "QAl4Nduvzc8J",
        "qY3uTQmGzj_7",
        "pBAmQRCjzj_7",
        "Zv_o_mIKzj_8",
        "KCReMDCK0f60"
      ],
      "provenance": []
    },
    "kernelspec": {
      "display_name": "Python 3",
      "name": "python3"
    },
    "language_info": {
      "codemirror_mode": {
        "name": "ipython",
        "version": 3
      },
      "file_extension": ".py",
      "mimetype": "text/x-python",
      "name": "python",
      "nbconvert_exporter": "python",
      "pygments_lexer": "ipython3",
      "version": "3.10.13"
    }
  },
  "nbformat": 4,
  "nbformat_minor": 0
}
